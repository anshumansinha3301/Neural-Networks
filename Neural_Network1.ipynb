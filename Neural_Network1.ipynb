{
  "nbformat": 4,
  "nbformat_minor": 0,
  "metadata": {
    "colab": {
      "provenance": [],
      "authorship_tag": "ABX9TyOZ0MXIO5nBamoirO1pBOq/",
      "include_colab_link": true
    },
    "kernelspec": {
      "name": "python3",
      "display_name": "Python 3"
    },
    "language_info": {
      "name": "python"
    }
  },
  "cells": [
    {
      "cell_type": "markdown",
      "metadata": {
        "id": "view-in-github",
        "colab_type": "text"
      },
      "source": [
        "<a href=\"https://colab.research.google.com/github/anshumansinha3301/Neural-Networks/blob/main/Neural_Network1.ipynb\" target=\"_parent\"><img src=\"https://colab.research.google.com/assets/colab-badge.svg\" alt=\"Open In Colab\"/></a>"
      ]
    },
    {
      "cell_type": "code",
      "execution_count": null,
      "metadata": {
        "colab": {
          "base_uri": "https://localhost:8080/"
        },
        "id": "mTXzoDHgUbYC",
        "outputId": "4f9d173a-be69-4c4d-f597-7512a9f28762"
      },
      "outputs": [
        {
          "output_type": "execute_result",
          "data": {
            "text/plain": [
              "float"
            ]
          },
          "metadata": {},
          "execution_count": 1
        }
      ],
      "source": [
        "g = 12\n",
        "type (g)\n",
        "b = int(12)\n",
        "c = 3.1415\n",
        "type(c)"
      ]
    },
    {
      "cell_type": "code",
      "source": [
        "S = \"welcome\"\n",
        "S1 = 'welcome'\n",
        "S3 = '''hello'''\n",
        "S4 = \"\"\"Hello python\"\"\"\n",
        "id(S)"
      ],
      "metadata": {
        "colab": {
          "base_uri": "https://localhost:8080/"
        },
        "id": "mVESJuaDWDfI",
        "outputId": "8411f299-5fcc-4cee-b370-1c962ff47fad"
      },
      "execution_count": null,
      "outputs": [
        {
          "output_type": "execute_result",
          "data": {
            "text/plain": [
              "139131537412656"
            ]
          },
          "metadata": {},
          "execution_count": 2
        }
      ]
    },
    {
      "cell_type": "code",
      "source": [
        "l3 = [1, 2, [3,4,5], 6]\n",
        "len(l3)\n",
        "l3[2][1]\n",
        "type(l3)\n",
        "print(l3)"
      ],
      "metadata": {
        "colab": {
          "base_uri": "https://localhost:8080/"
        },
        "id": "Au1XIAJVXg-A",
        "outputId": "f4ac8f4f-16d0-49d2-c48b-3f52abc8a0b3"
      },
      "execution_count": null,
      "outputs": [
        {
          "output_type": "stream",
          "name": "stdout",
          "text": [
            "[1, 2, [3, 4, 5], 6]\n"
          ]
        }
      ]
    },
    {
      "cell_type": "code",
      "source": [
        "print(\"enter first no\")\n",
        "x = int(input())\n",
        "print(\"enter second no\")\n",
        "y = int(input())\n",
        "z = x+y\n",
        "print(z)"
      ],
      "metadata": {
        "colab": {
          "base_uri": "https://localhost:8080/"
        },
        "id": "H4UPThzpYbg-",
        "outputId": "db859f4a-9b38-49ff-a43e-5560ba4b42b1"
      },
      "execution_count": null,
      "outputs": [
        {
          "output_type": "stream",
          "name": "stdout",
          "text": [
            "enter first no\n",
            "4\n",
            "enter second no\n",
            "5\n",
            "9\n"
          ]
        }
      ]
    },
    {
      "cell_type": "code",
      "source": [
        "t1 = tuple([1,2,3])\n",
        "type(t1)\n",
        "\n"
      ],
      "metadata": {
        "colab": {
          "base_uri": "https://localhost:8080/"
        },
        "id": "gfE8HdwaaF1g",
        "outputId": "ef23e804-d48a-449f-9554-4dd98abbabb1"
      },
      "execution_count": null,
      "outputs": [
        {
          "output_type": "execute_result",
          "data": {
            "text/plain": [
              "tuple"
            ]
          },
          "metadata": {},
          "execution_count": 5
        }
      ]
    },
    {
      "cell_type": "code",
      "source": [
        "t3=(1,)\n",
        "type(t3)"
      ],
      "metadata": {
        "colab": {
          "base_uri": "https://localhost:8080/"
        },
        "id": "AbZooPyMaWqG",
        "outputId": "2c00001f-1f26-4c2d-fcc0-8fc1cb62857a"
      },
      "execution_count": null,
      "outputs": [
        {
          "output_type": "execute_result",
          "data": {
            "text/plain": [
              "tuple"
            ]
          },
          "metadata": {},
          "execution_count": 6
        }
      ]
    },
    {
      "cell_type": "code",
      "source": [
        "s1 = {1,2,3,4,5}\n",
        "type(s1)"
      ],
      "metadata": {
        "colab": {
          "base_uri": "https://localhost:8080/"
        },
        "id": "FhXJpRkFa9Hm",
        "outputId": "6abdd7c7-acb5-4425-de52-d8a565408015"
      },
      "execution_count": null,
      "outputs": [
        {
          "output_type": "execute_result",
          "data": {
            "text/plain": [
              "set"
            ]
          },
          "metadata": {},
          "execution_count": 7
        }
      ]
    },
    {
      "cell_type": "code",
      "source": [
        "# A set doesn't store duplicate values\n",
        "s2 = {1,2,1,2,5,4}\n",
        "print(s2)"
      ],
      "metadata": {
        "colab": {
          "base_uri": "https://localhost:8080/"
        },
        "id": "6NPpmlWmbFk-",
        "outputId": "4fe5eb13-b54b-4f64-85c5-bd48eec9e709"
      },
      "execution_count": null,
      "outputs": [
        {
          "output_type": "stream",
          "name": "stdout",
          "text": [
            "{1, 2, 4, 5}\n"
          ]
        }
      ]
    },
    {
      "cell_type": "code",
      "source": [
        "d1 = {1:1, 2:2, 3:5} # here 1,2,3 are keys and 1,2,5 are values\n",
        "type(d1)"
      ],
      "metadata": {
        "colab": {
          "base_uri": "https://localhost:8080/"
        },
        "id": "Ftz06IDqbQT3",
        "outputId": "a0a80724-5685-4675-9141-bb40e200e0ec"
      },
      "execution_count": null,
      "outputs": [
        {
          "output_type": "execute_result",
          "data": {
            "text/plain": [
              "dict"
            ]
          },
          "metadata": {},
          "execution_count": 9
        }
      ]
    },
    {
      "cell_type": "code",
      "source": [
        "def sum_list(l):\n",
        "    size = len(l)\n",
        "    r = 0\n",
        "    for i in range(size):\n",
        "        r = r + l[i]\n",
        "    return r\n",
        "\n",
        "l = [12, 23, 5, 9]\n",
        "result = sum_list(l)\n",
        "print(\"sum:\", result)\n"
      ],
      "metadata": {
        "colab": {
          "base_uri": "https://localhost:8080/"
        },
        "id": "_eMPpjehhBy5",
        "outputId": "4dd7fc0b-5297-426a-8e5f-d975f132328f"
      },
      "execution_count": null,
      "outputs": [
        {
          "output_type": "stream",
          "name": "stdout",
          "text": [
            "sum: 49\n"
          ]
        }
      ]
    },
    {
      "cell_type": "code",
      "source": [
        "def product(l):\n",
        "    p = 1\n",
        "    size = len(l)\n",
        "    for i in range(size):\n",
        "        p *= l[i]\n",
        "    return p\n",
        "\n",
        "l = [1, 2, 3, 4]\n",
        "result = product(l)\n",
        "print(\"Result:\", result)"
      ],
      "metadata": {
        "colab": {
          "base_uri": "https://localhost:8080/"
        },
        "id": "VNVrRYN5dWm6",
        "outputId": "2b78875f-241c-41e5-eb00-261b3ebc9c27"
      },
      "execution_count": null,
      "outputs": [
        {
          "output_type": "stream",
          "name": "stdout",
          "text": [
            "Result: 0\n"
          ]
        }
      ]
    },
    {
      "cell_type": "code",
      "source": [
        "def meanlist(l):\n",
        "    total = 0\n",
        "    size = len(l)\n",
        "    for i in range(size):\n",
        "        total += l[i]\n",
        "    return total / size\n",
        "\n",
        "l = [1, 2, 3, 4]\n",
        "result = meanlist(l)\n",
        "print(\"Result:\", result)"
      ],
      "metadata": {
        "colab": {
          "base_uri": "https://localhost:8080/"
        },
        "id": "snqkyldikh8Y",
        "outputId": "ec9a7c6a-73c2-4f50-b197-4f191c5d2f3e"
      },
      "execution_count": null,
      "outputs": [
        {
          "output_type": "stream",
          "name": "stdout",
          "text": [
            "Result: 2.5\n"
          ]
        }
      ]
    },
    {
      "cell_type": "code",
      "source": [
        "print(20%6)"
      ],
      "metadata": {
        "colab": {
          "base_uri": "https://localhost:8080/"
        },
        "id": "Bfz_HAPTl-6Z",
        "outputId": "6e1531a9-8e90-4d32-9a65-5946df6a1e01"
      },
      "execution_count": null,
      "outputs": [
        {
          "output_type": "stream",
          "name": "stdout",
          "text": [
            "2\n"
          ]
        }
      ]
    },
    {
      "cell_type": "code",
      "source": [
        "# Class for Rectangle\n",
        "class Rectangle:\n",
        "    def __init__(self, l: float, b: float):\n",
        "        self.length = l\n",
        "        self.breadth = b\n",
        "\n",
        "    def area(self) -> float:\n",
        "        return self.length * self.breadth\n",
        "\n",
        "    def perimeter(self) -> float:\n",
        "        return 2 * (self.length + self.breadth)\n",
        "\n",
        "    def getLength(self) -> float:\n",
        "        return self.length\n",
        "\n",
        "    def getBreadth(self) -> float:\n",
        "        return self.breadth\n",
        "\n",
        "    def setLength(self, l: float) -> None:\n",
        "        self.length = l\n",
        "\n",
        "    def setBreadth(self, b: float) -> None:\n",
        "        self.breadth = b\n",
        "\n",
        "\n",
        "r1 = Rectangle(4, 5)\n",
        "print(f\"Rectangle Area: {r1.area()}\")\n",
        "print(f\"Rectangle Perimeter: {r1.perimeter()}\")\n",
        "\n",
        "\n",
        "# Class for Cuboid\n",
        "class Cuboid:\n",
        "    def __init__(self, l: float, b: float, h: float):\n",
        "        self.length = l\n",
        "        self.breadth = b\n",
        "        self.height = h\n",
        "\n",
        "    def volume(self) -> float:\n",
        "        return self.length * self.breadth * self.height\n",
        "\n",
        "    def surface_area(self) -> float:\n",
        "        return 2 * (self.length*self.breadth + self.length*self.height + self.breadth*self.height)\n",
        "\n",
        "    def getLength(self) -> float:\n",
        "        return self.length\n",
        "\n",
        "    def getBreadth(self) -> float:\n",
        "        return self.breadth\n",
        "\n",
        "    def getHeight(self) -> float:\n",
        "        return self.height\n",
        "\n",
        "    def setLength(self, l: float) -> None:\n",
        "        self.length = l\n",
        "\n",
        "    def setBreadth(self, b: float) -> None:\n",
        "        self.breadth = b\n",
        "\n",
        "    def setHeight(self, h: float) -> None:\n",
        "        self.height = h\n",
        "\n",
        "c1 = Cuboid(4, 5, 6)\n",
        "print(f\"Cuboid Volume: {c1.volume()}\")\n",
        "print(f\"Cuboid Surface Area: {c1.surface_area()}\")"
      ],
      "metadata": {
        "id": "O5dQ69gKolv3",
        "colab": {
          "base_uri": "https://localhost:8080/"
        },
        "outputId": "f7cb25dc-3c92-42fd-b1e4-64ec62f3923d"
      },
      "execution_count": null,
      "outputs": [
        {
          "output_type": "stream",
          "name": "stdout",
          "text": [
            "Rectangle Area: 20\n",
            "Rectangle Perimeter: 18\n",
            "Cuboid Volume: 120\n",
            "Cuboid Surface Area: 148\n"
          ]
        }
      ]
    },
    {
      "cell_type": "code",
      "source": [
        "# Class for Square\n",
        "class Square:\n",
        "    def __init__(self, side: float):\n",
        "        self.side = side\n",
        "\n",
        "    def area(self) -> float:\n",
        "        return self.side * self.side\n",
        "\n",
        "    def perimeter(self) -> float:\n",
        "        return 4 * self.side\n",
        "\n",
        "    def getSide(self) -> float:\n",
        "        return self.side\n",
        "\n",
        "    def setSide(self, side: float) -> None:\n",
        "        self.side = side\n",
        "\n",
        "\n",
        "# Example usage\n",
        "s1 = Square(5)\n",
        "print(f\"Square Side: {s1.getSide()}\")\n",
        "print(f\"Square Area: {s1.area()}\")\n",
        "print(f\"Square Perimeter: {s1.perimeter()}\")\n",
        "\n",
        "s1.setSide(8)  # changing side\n",
        "print(f\"\\nAfter changing side to {s1.getSide()}:\")\n",
        "print(f\"Square Area: {s1.area()}\")\n",
        "print(f\"Square Perimeter: {s1.perimeter()}\")"
      ],
      "metadata": {
        "id": "SIqGwzb5pTPC",
        "colab": {
          "base_uri": "https://localhost:8080/"
        },
        "outputId": "58ad197e-37e3-45a7-f9ef-b61db3c37044"
      },
      "execution_count": null,
      "outputs": [
        {
          "output_type": "stream",
          "name": "stdout",
          "text": [
            "Square Side: 5\n",
            "Square Area: 25\n",
            "Square Perimeter: 20\n",
            "\n",
            "After changing side to 8:\n",
            "Square Area: 64\n",
            "Square Perimeter: 32\n"
          ]
        }
      ]
    },
    {
      "cell_type": "code",
      "source": [
        "# Class for Cube\n",
        "class Cube:\n",
        "    def __init__(self, side: float):\n",
        "        self.side = side\n",
        "\n",
        "    def volume(self) -> float:\n",
        "        return self.side ** 3\n",
        "\n",
        "    def surface_area(self) -> float:\n",
        "        return 6 * (self.side ** 2)\n",
        "\n",
        "    def getSide(self) -> float:\n",
        "        return self.side\n",
        "\n",
        "    def setSide(self, side: float) -> None:\n",
        "        self.side = side\n",
        "\n",
        "\n",
        "# Example usage\n",
        "c1 = Cube(4)\n",
        "print(f\"Cube Side: {c1.getSide()}\")\n",
        "print(f\"Cube Volume: {c1.volume()}\")\n",
        "print(f\"Cube Surface Area: {c1.surface_area()}\")\n",
        "\n",
        "c1.setSide(7)  # updating side\n",
        "print(f\"\\nAfter changing side to {c1.getSide()}:\")\n",
        "print(f\"Cube Volume: {c1.volume()}\")\n",
        "print(f\"Cube Surface Area: {c1.surface_area()}\")"
      ],
      "metadata": {
        "id": "I4oKeEm-phJa",
        "colab": {
          "base_uri": "https://localhost:8080/"
        },
        "outputId": "9fa0dfd2-2a6a-448e-fb8b-9f4303e0ebde"
      },
      "execution_count": null,
      "outputs": [
        {
          "output_type": "stream",
          "name": "stdout",
          "text": [
            "Cube Side: 4\n",
            "Cube Volume: 64\n",
            "Cube Surface Area: 96\n",
            "\n",
            "After changing side to 7:\n",
            "Cube Volume: 343\n",
            "Cube Surface Area: 294\n"
          ]
        }
      ]
    },
    {
      "cell_type": "code",
      "source": [
        "# Example: Bank Account Class\n",
        "\n",
        "class BankAccount:\n",
        "    def __init__(self, account_number, holder_name, balance=0.0):\n",
        "        self.account_number = account_number\n",
        "        self.holder_name = holder_name\n",
        "        self.balance = balance\n",
        "\n",
        "    def deposit(self, amount):\n",
        "        if amount > 0:\n",
        "            self.balance += amount\n",
        "            print(f\"Deposited ₹{amount}. New Balance = ₹{self.balance}\")\n",
        "        else:\n",
        "            print(\"Deposit amount must be positive.\")\n",
        "\n",
        "    def withdraw(self, amount):\n",
        "        if 0 < amount <= self.balance:\n",
        "            self.balance -= amount\n",
        "            print(f\"Withdrew ₹{amount}. Remaining Balance = ₹{self.balance}\")\n",
        "        else:\n",
        "            print(\"Insufficient balance or invalid amount.\")\n",
        "\n",
        "    def get_balance(self):\n",
        "        return self.balance\n",
        "\n",
        "\n",
        "# Example usage\n",
        "acc1 = BankAccount(\"123456\", \"Anshuman\", 5000)\n",
        "\n",
        "print(f\"Account Holder: {acc1.holder_name}, Balance: ₹{acc1.get_balance()}\")\n",
        "\n",
        "acc1.deposit(2000)\n",
        "acc1.withdraw(3000)\n",
        "acc1.withdraw(5000)   # should show insufficient balance"
      ],
      "metadata": {
        "id": "2zTVV6JbrIGL",
        "colab": {
          "base_uri": "https://localhost:8080/"
        },
        "outputId": "f9376a5c-3de1-436d-bdfd-0c503bb9d6a9"
      },
      "execution_count": null,
      "outputs": [
        {
          "output_type": "stream",
          "name": "stdout",
          "text": [
            "Account Holder: Anshuman, Balance: ₹5000\n",
            "Deposited ₹2000. New Balance = ₹7000\n",
            "Withdrew ₹3000. Remaining Balance = ₹4000\n",
            "Insufficient balance or invalid amount.\n"
          ]
        }
      ]
    },
    {
      "cell_type": "code",
      "source": [
        "# Example: Constructor and Destructor in Python\n",
        "\n",
        "class Car:\n",
        "    def __init__(self, brand, model):   # Constructor\n",
        "        self.brand = brand\n",
        "        self.model = model\n",
        "        print(f\"Car {self.brand} {self.model} is created.\")\n",
        "\n",
        "    def display(self):\n",
        "        print(f\"Car Brand: {self.brand}, Model: {self.model}\")\n",
        "\n",
        "    def __del__(self):   # Destructor\n",
        "        print(f\"Car {self.brand} {self.model} is destroyed.\")\n",
        "\n",
        "\n",
        "# Creating object\n",
        "c1 = Car(\"Tesla\", \"Model S\")\n",
        "c1.display()\n",
        "\n",
        "# Deleting object manually\n",
        "del c1\n",
        "\n",
        "print(\"End of Program\")"
      ],
      "metadata": {
        "id": "gZRQm0vtrJR8",
        "colab": {
          "base_uri": "https://localhost:8080/"
        },
        "outputId": "96d78be6-3728-4099-896e-b8f7579558de"
      },
      "execution_count": null,
      "outputs": [
        {
          "output_type": "stream",
          "name": "stdout",
          "text": [
            "Car Tesla Model S is created.\n",
            "Car Brand: Tesla, Model: Model S\n",
            "Car Tesla Model S is destroyed.\n",
            "End of Program\n"
          ]
        }
      ]
    },
    {
      "cell_type": "code",
      "source": [
        "# Example: Encapsulation in Python\n",
        "\n",
        "class BankAccount:\n",
        "    def __init__(self, account_number, holder_name, balance=0.0):\n",
        "        self.__account_number = account_number   # private attribute\n",
        "        self.__holder_name = holder_name         # private attribute\n",
        "        self.__balance = balance                 # private attribute\n",
        "\n",
        "    # Getter for balance\n",
        "    def get_balance(self):\n",
        "        return self.__balance\n",
        "\n",
        "    # Setter for deposit\n",
        "    def deposit(self, amount):\n",
        "        if amount > 0:\n",
        "            self.__balance += amount\n",
        "            print(f\"Deposited ₹{amount}. New Balance = ₹{self.__balance}\")\n",
        "        else:\n",
        "            print(\"Deposit amount must be positive.\")\n",
        "\n",
        "    # Setter for withdrawal\n",
        "    def withdraw(self, amount):\n",
        "        if 0 < amount <= self.__balance:\n",
        "            self.__balance -= amount\n",
        "            print(f\"Withdrew ₹{amount}. Remaining Balance = ₹{self.__balance}\")\n",
        "        else:\n",
        "            print(\"Insufficient balance or invalid amount.\")\n",
        "\n",
        "\n",
        "# Example usage\n",
        "acc = BankAccount(\"12345\", \"Anshuman\", 5000)\n",
        "\n",
        "# Access via getters/setters ✅\n",
        "print(\"Initial Balance:\", acc.get_balance())\n",
        "acc.deposit(2000)\n",
        "acc.withdraw(3000)"
      ],
      "metadata": {
        "id": "mnudIph8rXH6",
        "colab": {
          "base_uri": "https://localhost:8080/"
        },
        "outputId": "c2d97454-d1b7-4328-f6ec-6608123fec47"
      },
      "execution_count": null,
      "outputs": [
        {
          "output_type": "stream",
          "name": "stdout",
          "text": [
            "Initial Balance: 5000\n",
            "Deposited ₹2000. New Balance = ₹7000\n",
            "Withdrew ₹3000. Remaining Balance = ₹4000\n"
          ]
        }
      ]
    },
    {
      "cell_type": "code",
      "source": [
        "from abc import ABC, abstractmethod\n",
        "\n",
        "# Abstract Class\n",
        "class Shape(ABC):\n",
        "    @abstractmethod\n",
        "    def area(self):\n",
        "        pass   # must be implemented in child class\n",
        "\n",
        "    @abstractmethod\n",
        "    def perimeter(self):\n",
        "        pass   # must be implemented in child class\n",
        "\n",
        "\n",
        "# Concrete Class 1\n",
        "class Circle(Shape):\n",
        "    def __init__(self, radius):\n",
        "        self.radius = radius\n",
        "\n",
        "    def area(self):\n",
        "        return 3.14 * self.radius * self.radius\n",
        "\n",
        "    def perimeter(self):\n",
        "        return 2 * 3.14 * self.radius\n",
        "\n",
        "\n",
        "# Concrete Class 2\n",
        "class Rectangle(Shape):\n",
        "    def __init__(self, length, breadth):\n",
        "        self.length = length\n",
        "        self.breadth = breadth\n",
        "\n",
        "    def area(self):\n",
        "        return self.length * self.breadth\n",
        "\n",
        "    def perimeter(self):\n",
        "        return 2 * (self.length + self.breadth)\n",
        "\n",
        "\n",
        "# Example usage\n",
        "c = Circle(5)\n",
        "print(\"Circle -> Area:\", c.area(), \", Perimeter:\", c.perimeter())\n",
        "\n",
        "r = Rectangle(4, 6)\n",
        "print(\"Rectangle -> Area:\", r.area(), \", Perimeter:\", r.perimeter())"
      ],
      "metadata": {
        "id": "zvuUtTLQrYJ3",
        "colab": {
          "base_uri": "https://localhost:8080/"
        },
        "outputId": "ae0b271a-f3ce-4b48-a800-736fea8f70cb"
      },
      "execution_count": null,
      "outputs": [
        {
          "output_type": "stream",
          "name": "stdout",
          "text": [
            "Circle -> Area: 78.5 , Perimeter: 31.400000000000002\n",
            "Rectangle -> Area: 24 , Perimeter: 20\n"
          ]
        }
      ]
    },
    {
      "cell_type": "code",
      "source": [
        "def my_average(l):\n",
        "    total = 0\n",
        "    size = len(l)\n",
        "    for i in range(size):\n",
        "        total += l[i]\n",
        "    avg = total / size\n",
        "    return avg\n",
        "\n",
        "l = [1, 2, 3, 4]\n",
        "result = my_average(l)\n",
        "print(\"Average:\", result)\n"
      ],
      "metadata": {
        "id": "xPjnNMUdk2Qy",
        "colab": {
          "base_uri": "https://localhost:8080/"
        },
        "outputId": "dc99d049-6170-4d2e-f7de-1c4897b130e8"
      },
      "execution_count": null,
      "outputs": [
        {
          "output_type": "stream",
          "name": "stdout",
          "text": [
            "Average: 2.5\n"
          ]
        }
      ]
    },
    {
      "cell_type": "code",
      "source": [
        "# 1. Function with argument and return value\n",
        "def sum(a, b):\n",
        "    return a + b\n",
        "\n",
        "result = sum(5, 3)\n",
        "\n",
        "# 2. Function with argument and no return value\n",
        "def sum(a, b):\n",
        "    print(f\"Sum: {a + b}\")\n",
        "\n",
        "sum(5, 3)\n",
        "\n",
        "# 3. Function with no argument and return value\n",
        "def sum():\n",
        "    a = 10\n",
        "    b = 20\n",
        "    return a + b\n",
        "\n",
        "result = sum()\n",
        "\n",
        "# 4. Function with no argument and no return value\n",
        "def sum():\n",
        "    a = 10\n",
        "    b = 30\n",
        "    print(f\"Sum: {a + b}\")\n",
        "\n",
        "sum()\n"
      ],
      "metadata": {
        "colab": {
          "base_uri": "https://localhost:8080/"
        },
        "id": "W7-mSK_ICvsH",
        "outputId": "254eaf98-3505-4230-df1a-92b68da21d3e"
      },
      "execution_count": null,
      "outputs": [
        {
          "output_type": "stream",
          "name": "stdout",
          "text": [
            "Sum: 8\n",
            "Sum: 40\n"
          ]
        }
      ]
    },
    {
      "cell_type": "code",
      "source": [
        "# 1. Default Parameter Function\n",
        "def sum_default(a=0, b=20):\n",
        "    # This function takes two parameters, with b having a default value of 20.\n",
        "    # If no parameter is passed, default values are used.\n",
        "    return a + b\n",
        "\n",
        "# Example usages:\n",
        "a = sum_default(20, 10)  # Output: 30\n",
        "b = sum_default(30)      # Output: 50 (b uses default value 20)\n",
        "c = sum_default()        # Output: 20 (both a and b use defaults)\n",
        "\n",
        "\n",
        "# 2. Named (Keyword) Parameter Function\n",
        "def sum_named(a=15, b=50):\n",
        "    # Parameters can be specified using keywords for clarity.\n",
        "    return a + b\n",
        "\n",
        "# Example usages:\n",
        "d = sum_named(a=15, b=50)      # Output: 65 (explicitly assigned)\n",
        "e = sum_named(b=20, a=50)      # Output: 70 (order doesn't matter with keyword arguments)\n",
        "f = sum_named(b=70)            # Output: 85 (a uses default, b overridden)\n",
        "\n",
        "\n",
        "# 3. Variable Number of Arguments Function\n",
        "def sum_varargs(*args):\n",
        "    # This function takes a variable number of arguments & returns their sum\n",
        "    total = 0\n",
        "    for i in args:\n",
        "        total += i\n",
        "    return total\n",
        "\n",
        "# Example\n",
        "a = sum_varargs(30)           # Output: 30\n",
        "b = sum_varargs(1, 30, 36, 40) # Output: 107\n",
        "\n",
        "\n",
        "# 4. Recursive Function (Factorial Example)\n",
        "def factorial(n):\n",
        "    # This function computes factorial of n recursively.\n",
        "    # It's a direct recursive function.\n",
        "    if n == 0 or n == 1:\n",
        "        return 1\n",
        "    else:\n",
        "        return n * factorial(n - 1) # Calls itself\n",
        "\n",
        "# Example\n",
        "fact = factorial(5)  # Output: 120\n",
        "\n",
        "\n",
        "# 5. Notes on Recursive Types (for reference, not code)\n",
        "# Types of recursive functions:\n",
        "#   - Direct Recursive: Function calls itself inside its own definition.\n",
        "#   - Indirect Recursive: Function calls another function, which eventually calls the first function.\n",
        "#   - Nontail Recursive: The recursive call is not the last operation in the function.\n",
        "#   - Tail Recursive: The recursive call is the last operation (Python does not optimize for tail recursion).\n"
      ],
      "metadata": {
        "id": "x7ZvlqRtEJYY"
      },
      "execution_count": null,
      "outputs": []
    },
    {
      "cell_type": "code",
      "source": [
        "# Indirect Recursive Functions\n",
        "def fun1(n):\n",
        "    \"\"\"\n",
        "    Indirect recursive function.\n",
        "    Calls fun2 instead of itself if n > 10.\n",
        "    \"\"\"\n",
        "    if n > 10:\n",
        "        # Calls fun2, indirectly causing recursion\n",
        "        return fun2(n + 1)\n",
        "    # Base case: when n <= 10, stop recursion\n",
        "    return n\n",
        "\n",
        "def fun2(n):\n",
        "    \"\"\"\n",
        "    Indirect recursive function.\n",
        "    Calls fun1 instead of itself if n > 10.\n",
        "    \"\"\"\n",
        "    if n > 10:\n",
        "        # Calls fun1, continuing the indirect recursion\n",
        "        return fun1(n + 1)\n",
        "    # Base case: when n <= 10, stop recursion\n",
        "    return n\n",
        "\n",
        "# Example usage:\n",
        "result = fun1(9)  # Starts at fun1, then indirect recursion happens until n <= 10\n",
        "print(result)     # Output: 11\n"
      ],
      "metadata": {
        "colab": {
          "base_uri": "https://localhost:8080/"
        },
        "id": "3WpoAwBeEcdy",
        "outputId": "8c280272-f926-4877-8dc0-60707f04e20d"
      },
      "execution_count": null,
      "outputs": [
        {
          "output_type": "stream",
          "name": "stdout",
          "text": [
            "9\n"
          ]
        }
      ]
    },
    {
      "cell_type": "code",
      "source": [
        "def print_1_to_n(n):\n",
        "    if n < 1:\n",
        "        return\n",
        "    print_1_to_n(n - 1)  # recursive call before print (non tail recursive)\n",
        "    print(n, end=' ')    # print after recursion (ascending order)\n",
        "\n",
        "def print_n_to_1(n):\n",
        "    if n < 1:\n",
        "        return\n",
        "    print(n, end=' ')    # print before recursion (tail recursive)\n",
        "    print_n_to_1(n - 1)  # tail recursion (descending order)\n",
        "\n",
        "n = 5\n",
        "print(\"Print from 1 to n:\")\n",
        "print_1_to_n(n)          # Output: 1 2 3 4 5\n",
        "\n",
        "print(\"\\nPrint from n to 1:\")\n",
        "print_n_to_1(n)          # Output: 5 4 3 2 1\n"
      ],
      "metadata": {
        "colab": {
          "base_uri": "https://localhost:8080/"
        },
        "id": "04Fhx2SfFRmt",
        "outputId": "f523078d-a579-4cc7-91b7-c324586471a8"
      },
      "execution_count": null,
      "outputs": [
        {
          "output_type": "stream",
          "name": "stdout",
          "text": [
            "Print from 1 to n:\n",
            "1 2 3 4 5 \n",
            "Print from n to 1:\n",
            "5 4 3 2 1 "
          ]
        }
      ]
    },
    {
      "cell_type": "code",
      "source": [
        "# Anonymous Function (Lambda): A small, unnamed function defined with the lambda keyword\n",
        "# Used for short, simple functions without formally defining with def\n",
        "square = lambda x: x * x            # anonymous function to square a number\n",
        "print(square(5))                   # Output: 25\n",
        "\n",
        "# Keyword Argument: Function arguments passed explicitly by name when calling\n",
        "# Allows passing arguments in any order and improves readability\n",
        "def greet(name, message=\"Hello\"):\n",
        "    print(f\"{message}, {name}!\")  # prints greeting with message and name\n",
        "\n",
        "greet(name=\"Alice\", message=\"Hi\") # Output: Hi, Alice!\n",
        "greet(message=\"Welcome\", name=\"Bob\") # order doesn't matter\n",
        "\n",
        "# Higher Order Function: Function that takes another function as argument or returns a function\n",
        "# Enables functional programming techniques, like passing behavior as parameters\n",
        "def apply_func(func, value):\n",
        "    return func(value)             # calls passed function on value\n",
        "\n",
        "def increment(x):\n",
        "    return x + 1\n",
        "\n",
        "print(apply_func(increment, 7))   # Output: 8\n"
      ],
      "metadata": {
        "colab": {
          "base_uri": "https://localhost:8080/"
        },
        "id": "mrC1BCGmGHSC",
        "outputId": "50721f39-d7fd-4229-80ab-4158e72bbe0e"
      },
      "execution_count": null,
      "outputs": [
        {
          "output_type": "stream",
          "name": "stdout",
          "text": [
            "25\n",
            "Hi, Alice!\n",
            "Welcome, Bob!\n",
            "8\n"
          ]
        }
      ]
    }
  ]
}